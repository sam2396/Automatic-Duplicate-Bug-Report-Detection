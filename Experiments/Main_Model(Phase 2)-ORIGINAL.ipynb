{
 "cells": [
  {
   "cell_type": "code",
   "execution_count": 1,
   "metadata": {},
   "outputs": [],
   "source": [
    "import numpy as np # linear algebra\n",
    "import pandas as pd # data processing, CSV file I/O (e.g. pd.read_csv)\n",
    "import nltk\n",
    "from nltk.corpus import stopwords\n",
    "from nltk.stem import SnowballStemmer\n",
    "from sklearn.feature_extraction.text import CountVectorizer\n",
    "import re\n",
    "from string import punctuation\n",
    "from random import sample"
   ]
  },
  {
   "cell_type": "code",
   "execution_count": 2,
   "metadata": {},
   "outputs": [
    {
     "data": {
      "text/html": [
       "<div>\n",
       "<style scoped>\n",
       "    .dataframe tbody tr th:only-of-type {\n",
       "        vertical-align: middle;\n",
       "    }\n",
       "\n",
       "    .dataframe tbody tr th {\n",
       "        vertical-align: top;\n",
       "    }\n",
       "\n",
       "    .dataframe thead th {\n",
       "        text-align: right;\n",
       "    }\n",
       "</style>\n",
       "<table border=\"1\" class=\"dataframe\">\n",
       "  <thead>\n",
       "    <tr style=\"text-align: right;\">\n",
       "      <th></th>\n",
       "      <th>Issue_id</th>\n",
       "      <th>Duplicated_issue</th>\n",
       "      <th>Title1</th>\n",
       "      <th>Description1</th>\n",
       "      <th>Title2</th>\n",
       "      <th>Description2</th>\n",
       "      <th>Label</th>\n",
       "    </tr>\n",
       "  </thead>\n",
       "  <tbody>\n",
       "    <tr>\n",
       "      <th>0</th>\n",
       "      <td>25</td>\n",
       "      <td>28126</td>\n",
       "      <td>cvs ui need vcm prefs  default repo connection gc</td>\n",
       "      <td>it would be helpful if there was a notion of d...</td>\n",
       "      <td>wizards patch standard public cvs repositories</td>\n",
       "      <td>this patch adds a convenient way to check thin...</td>\n",
       "      <td>1</td>\n",
       "    </tr>\n",
       "    <tr>\n",
       "      <th>1</th>\n",
       "      <td>40</td>\n",
       "      <td>20</td>\n",
       "      <td>need connect to team stream gcqpkw</td>\n",
       "      <td>i would like to be able to connect to a team s...</td>\n",
       "      <td>workspace files</td>\n",
       "      <td>thought it would be useful if the set of repo ...</td>\n",
       "      <td>1</td>\n",
       "    </tr>\n",
       "    <tr>\n",
       "      <th>2</th>\n",
       "      <td>48</td>\n",
       "      <td>22</td>\n",
       "      <td>make sure can future store other project refer...</td>\n",
       "      <td>project references come in three flavours  . p...</td>\n",
       "      <td>persist sharing recommendations and project ve...</td>\n",
       "      <td>project descriptions dont store sharing recomm...</td>\n",
       "      <td>1</td>\n",
       "    </tr>\n",
       "    <tr>\n",
       "      <th>3</th>\n",
       "      <td>61</td>\n",
       "      <td>60</td>\n",
       "      <td>.vcmmeta showing as change gdqtgw</td>\n",
       "      <td>useruser   install drop  into declipse  user  ...</td>\n",
       "      <td>need custom .vcmignore comparemerge gdqt</td>\n",
       "      <td>useruser   install drop  into declipse  user  ...</td>\n",
       "      <td>1</td>\n",
       "    </tr>\n",
       "    <tr>\n",
       "      <th>4</th>\n",
       "      <td>94</td>\n",
       "      <td>2</td>\n",
       "      <td>repositories view all file types open to the t...</td>\n",
       "      <td>when browsing files in the repositories view i...</td>\n",
       "      <td>opening repository resources doesnt honor type...</td>\n",
       "      <td>opening repository resource  open the default ...</td>\n",
       "      <td>1</td>\n",
       "    </tr>\n",
       "    <tr>\n",
       "      <th>...</th>\n",
       "      <td>...</td>\n",
       "      <td>...</td>\n",
       "      <td>...</td>\n",
       "      <td>...</td>\n",
       "      <td>...</td>\n",
       "      <td>...</td>\n",
       "      <td>...</td>\n",
       "    </tr>\n",
       "    <tr>\n",
       "      <th>9900</th>\n",
       "      <td>418747</td>\n",
       "      <td>953052</td>\n",
       "      <td>thunderbird outlook migrate lost outlooks pst ...</td>\n",
       "      <td>i installed thunderbird hoping i could impor...</td>\n",
       "      <td>i am using thunderbird  esr latest but i keep ...</td>\n",
       "      <td>i am using thunderbird .. esr latest but i...</td>\n",
       "      <td>0</td>\n",
       "    </tr>\n",
       "    <tr>\n",
       "      <th>9901</th>\n",
       "      <td>418821</td>\n",
       "      <td>953165</td>\n",
       "      <td>urls in mail with comma  opens with c in browser</td>\n",
       "      <td>when clicking in text mail not html on url w...</td>\n",
       "      <td>picture in feed not showing</td>\n",
       "      <td>. i linked the rssfeed from httpwww.nu.nlf...</td>\n",
       "      <td>0</td>\n",
       "    </tr>\n",
       "    <tr>\n",
       "      <th>9902</th>\n",
       "      <td>418832</td>\n",
       "      <td>953249</td>\n",
       "      <td>greek attachments not displayed correctly</td>\n",
       "      <td>i am using gmail imap accounts. when i recei...</td>\n",
       "      <td>add the flagcolpng to linux</td>\n",
       "      <td>httpmxr.mozilla.orgcommcentralsearchstringflag...</td>\n",
       "      <td>0</td>\n",
       "    </tr>\n",
       "    <tr>\n",
       "      <th>9903</th>\n",
       "      <td>419035</td>\n",
       "      <td>953375</td>\n",
       "      <td>branch only random crash when i want to displ...</td>\n",
       "      <td>the problem appears with icedove the debian ...</td>\n",
       "      <td>replace undefined gpromptservice with services...</td>\n",
       "      <td>patch v  discovered a call to undefined gprom...</td>\n",
       "      <td>0</td>\n",
       "    </tr>\n",
       "    <tr>\n",
       "      <th>9904</th>\n",
       "      <td>955875</td>\n",
       "      <td>953403</td>\n",
       "      <td>permanent orange mac  testunexpectedfail  test...</td>\n",
       "      <td>these have been permafail on mac .  testunexpe...</td>\n",
       "      <td>open sidebar messes the print preview in compo...</td>\n",
       "      <td>screenshot  with open sidebar in compose wind...</td>\n",
       "      <td>0</td>\n",
       "    </tr>\n",
       "  </tbody>\n",
       "</table>\n",
       "<p>122075 rows × 7 columns</p>\n",
       "</div>"
      ],
      "text/plain": [
       "      Issue_id  Duplicated_issue  \\\n",
       "0           25             28126   \n",
       "1           40                20   \n",
       "2           48                22   \n",
       "3           61                60   \n",
       "4           94                 2   \n",
       "...        ...               ...   \n",
       "9900    418747            953052   \n",
       "9901    418821            953165   \n",
       "9902    418832            953249   \n",
       "9903    419035            953375   \n",
       "9904    955875            953403   \n",
       "\n",
       "                                                 Title1  \\\n",
       "0     cvs ui need vcm prefs  default repo connection gc   \n",
       "1                    need connect to team stream gcqpkw   \n",
       "2     make sure can future store other project refer...   \n",
       "3                     .vcmmeta showing as change gdqtgw   \n",
       "4     repositories view all file types open to the t...   \n",
       "...                                                 ...   \n",
       "9900  thunderbird outlook migrate lost outlooks pst ...   \n",
       "9901   urls in mail with comma  opens with c in browser   \n",
       "9902          greek attachments not displayed correctly   \n",
       "9903   branch only random crash when i want to displ...   \n",
       "9904  permanent orange mac  testunexpectedfail  test...   \n",
       "\n",
       "                                           Description1  \\\n",
       "0     it would be helpful if there was a notion of d...   \n",
       "1     i would like to be able to connect to a team s...   \n",
       "2     project references come in three flavours  . p...   \n",
       "3     useruser   install drop  into declipse  user  ...   \n",
       "4     when browsing files in the repositories view i...   \n",
       "...                                                 ...   \n",
       "9900    i installed thunderbird hoping i could impor...   \n",
       "9901    when clicking in text mail not html on url w...   \n",
       "9902    i am using gmail imap accounts. when i recei...   \n",
       "9903    the problem appears with icedove the debian ...   \n",
       "9904  these have been permafail on mac .  testunexpe...   \n",
       "\n",
       "                                                 Title2  \\\n",
       "0        wizards patch standard public cvs repositories   \n",
       "1                                       workspace files   \n",
       "2     persist sharing recommendations and project ve...   \n",
       "3              need custom .vcmignore comparemerge gdqt   \n",
       "4     opening repository resources doesnt honor type...   \n",
       "...                                                 ...   \n",
       "9900  i am using thunderbird  esr latest but i keep ...   \n",
       "9901                        picture in feed not showing   \n",
       "9902                        add the flagcolpng to linux   \n",
       "9903  replace undefined gpromptservice with services...   \n",
       "9904  open sidebar messes the print preview in compo...   \n",
       "\n",
       "                                           Description2  Label  \n",
       "0     this patch adds a convenient way to check thin...      1  \n",
       "1     thought it would be useful if the set of repo ...      1  \n",
       "2     project descriptions dont store sharing recomm...      1  \n",
       "3     useruser   install drop  into declipse  user  ...      1  \n",
       "4     opening repository resource  open the default ...      1  \n",
       "...                                                 ...    ...  \n",
       "9900      i am using thunderbird .. esr latest but i...      0  \n",
       "9901      . i linked the rssfeed from httpwww.nu.nlf...      0  \n",
       "9902  httpmxr.mozilla.orgcommcentralsearchstringflag...      0  \n",
       "9903   patch v  discovered a call to undefined gprom...      0  \n",
       "9904   screenshot  with open sidebar in compose wind...      0  \n",
       "\n",
       "[122075 rows x 7 columns]"
      ]
     },
     "execution_count": 2,
     "metadata": {},
     "output_type": "execute_result"
    }
   ],
   "source": [
    "df1 = pd.read_csv(\"../data/Duplicate_Bug_Report/Eclipse/EP_dup.csv\", sep=\";\")\n",
    "df2 = pd.read_csv(\"../data/Duplicate_Bug_Report/Eclipse/EP_nondup.csv\", sep=\";\")\n",
    "df3 = pd.read_csv(\"../data/Duplicate_Bug_Report/Mozilla/M_Duplicate BRs.csv\", sep=\";\")  \n",
    "df4 = pd.read_csv(\"../data/Duplicate_Bug_Report/Mozilla/M_NonDuplicate BRs.csv\", sep=\";\")\n",
    "df5 = pd.read_csv(\"../data/Duplicate_Bug_Report/ThunderBird/dup_TB.csv\", sep=\";\")\n",
    "df6 = pd.read_csv(\"../data/Duplicate_Bug_Report/ThunderBird/Nondup_TB.csv\", sep=\";\")\n",
    "\n",
    "frames=[df1,df2,df3,df4,df5,df6]\n",
    "data=pd.concat(frames)\n",
    "data"
   ]
  },
  {
   "cell_type": "code",
   "execution_count": 3,
   "metadata": {},
   "outputs": [],
   "source": [
    "data = data.reset_index()"
   ]
  },
  {
   "cell_type": "code",
   "execution_count": 4,
   "metadata": {},
   "outputs": [],
   "source": [
    "data['TitleDescription1'] = data['Title1'].str.cat(data['Description1'],sep=\" \")\n",
    "data['TitleDescription2'] = data['Title2'].str.cat(data['Description2'],sep=\" \")"
   ]
  },
  {
   "cell_type": "code",
   "execution_count": 5,
   "metadata": {},
   "outputs": [],
   "source": [
    "stop_words = set(stopwords.words('english'))"
   ]
  },
  {
   "cell_type": "code",
   "execution_count": 6,
   "metadata": {},
   "outputs": [],
   "source": [
    "def words(text, remove_stop_words=True, stem_words=False):\n",
    "    # Remove punctuation from questions\n",
    "    text = ''.join([c for c in text if c not in punctuation])\n",
    "    \n",
    "    # Lowering the words in questions\n",
    "    text = text.lower()\n",
    "    \n",
    "    # Remove stop words from questions\n",
    "    if remove_stop_words:\n",
    "        text = text.split()\n",
    "        text = [w for w in text if not w in stop_words]\n",
    "        text = \" \".join(text)\n",
    "    \n",
    "    # Return a list of words\n",
    "    return(text)"
   ]
  },
  {
   "cell_type": "code",
   "execution_count": 7,
   "metadata": {},
   "outputs": [],
   "source": [
    "def process(bug_list, bugs):\n",
    "    for bug in bugs:\n",
    "        bug_list.append(words(bug))\n",
    "processed_bug1 = []\n",
    "processed_bug2 = []\n",
    "process(processed_bug1, data.TitleDescription1)\n",
    "process(processed_bug2, data.TitleDescription2)"
   ]
  },
  {
   "cell_type": "code",
   "execution_count": 8,
   "metadata": {},
   "outputs": [],
   "source": [
    "from sklearn.feature_extraction.text import TfidfVectorizer\n",
    "tfidf = TfidfVectorizer(analyzer = 'word',\n",
    "                        stop_words = 'english',\n",
    "                        lowercase = True,\n",
    "                        max_features = 300,\n",
    "                        norm = 'l1')"
   ]
  },
  {
   "cell_type": "code",
   "execution_count": 9,
   "metadata": {},
   "outputs": [],
   "source": [
    "words = pd.concat([data.TitleDescription1, data.TitleDescription2], axis = 0)"
   ]
  },
  {
   "cell_type": "code",
   "execution_count": 31,
   "metadata": {},
   "outputs": [
    {
     "name": "stdout",
     "output_type": "stream",
     "text": [
      "{'cvs': 58, 'ui': 270, 'need': 169, 'default': 61, 'project': 205, 'list': 146, 'sure': 246, 'created': 53, 'create': 52, 'type': 269, 'team': 252, 'like': 141, 'able': 0, 'add': 6, 'content': 43, 'workspace': 296, 'added': 7, 'new': 170, 'currently': 55, 'open': 177, 'browser': 23, 'select': 226, 'used': 274, 'dont': 72, 'think': 256, 'make': 156, 'version': 278, 'use': 273, 'time': 259, 'file': 94, 'example': 86, 'xml': 299, 'right': 217, 'different': 65, 'fine': 96, 'change': 30, 'install': 119, 'user': 275, 'java': 128, 'perspective': 191, 'class': 34, 'main': 155, 'method': 162, 'console': 42, 'run': 218, 'enter': 81, 'view': 279, 'correctly': 49, 'bug': 24, 'changes': 32, 'users': 276, 'files': 95, 'views': 281, 'resource': 211, 'doesnt': 71, 'text': 254, 'editor': 78, 'try': 266, 'does': 70, 'using': 277, 'ok': 176, 'location': 149, 'opening': 179, 'launch': 138, 'resources': 212, 'html': 109, 'page': 186, 'look': 152, 'display': 67, 'missing': 163, 'just': 134, 'button': 26, 'dialog': 63, 'did': 64, 'error': 84, 'org': 183, 'eclipse': 75, 'jdt': 131, 'core': 47, 'following': 103, 'stack': 241, 'log': 150, 'read': 208, 'code': 39, 'internal': 122, 'ccvs': 29, 'actions': 4, 'jface': 132, 'swt': 248, 'custom': 57, 'viewers': 280, 'widgets': 288, 'widget': 287, 'tree': 264, 'control': 45, 'win': 289, 'os': 184, 'workbench': 293, 'lang': 137, 'reflect': 209, 'launcher': 139, 'messages': 161, 'server': 230, 'problems': 202, 'data': 59, 'left': 140, 'working': 294, 'opens': 180, 'load': 147, 'item': 124, 'correct': 48, 'switch': 247, 'pane': 188, 'times': 260, 'second': 225, 'appears': 13, 'message': 160, 'close': 37, 'works': 295, 'work': 292, 'possible': 196, 'history': 108, 'way': 284, 'know': 136, 'want': 283, 'instead': 121, 'loading': 148, 'selection': 228, 'scroll': 223, 'bar': 18, 'window': 290, 'current': 54, 'check': 33, 'properties': 206, 'information': 118, 'note': 171, 'shows': 236, 'previous': 199, 'save': 221, 'copy': 46, 'changed': 31, 'framework': 104, 'case': 28, 'happens': 106, 'support': 245, 'multiple': 167, 'wrong': 297, 'key': 135, 'installed': 120, 'trying': 267, 'allow': 9, 'extension': 90, 'password': 189, 'test': 253, 'plugin': 193, 'com': 40, 'runtime': 220, 'preferences': 197, 'directory': 66, 'end': 80, 'set': 232, 'problem': 201, 'linux': 145, 'command': 41, 'line': 142, 'opened': 178, 'remove': 210, 'windows': 291, 'fix': 98, 'start': 242, 'platform': 192, 'link': 143, 'click': 35, 'help': 107, 'mouse': 165, 'running': 219, 'crash': 50, 'context': 44, 'menu': 159, 'appear': 12, 'tabs': 251, 'im': 114, 'bookmark': 20, 'clicking': 36, 'option': 181, 'number': 174, 'closed': 38, 'buttons': 27, 'feature': 91, 'tab': 249, 'visible': 282, 'popup': 195, 'explorer': 89, 'delete': 62, 'restart': 213, 'box': 22, 'issue': 123, 'update': 271, 'items': 125, 'blank': 19, 'folder': 101, 'folders': 102, 'build': 25, 'action': 3, 'displayed': 68, 'selected': 227, 'image': 115, 'return': 216, 'null': 173, 'images': 116, 'id': 112, 'options': 182, 'results': 215, 'application': 14, 'available': 16, 'import': 117, 'toolbar': 262, 'mail': 154, 'flash': 99, 'crashes': 51, 'result': 214, 'ive': 126, 'memory': 158, 'exception': 87, 'string': 243, 'title': 261, 'app': 11, 'background': 17, 'tools': 263, 'space': 240, 'entry': 82, 'tried': 265, 'shown': 235, 'cursor': 56, 'long': 151, 'size': 238, 'expected': 88, 'source': 239, 'focus': 100, 'search': 224, 'web': 285, 'screen': 222, 'plugins': 194, 'event': 85, 'print': 200, 'send': 229, 'field': 93, 'account': 2, 'access': 1, 'object': 175, 'email': 79, 'public': 207, 'pages': 187, 'ant': 10, 'jar': 127, 'sun': 244, 'thread': 257, 'address': 8, 'icon': 111, 'shell': 234, 'mode': 164, 'table': 250, 'attached': 15, 'dll': 69, 'ide': 113, 'settings': 233, 'drag': 74, 'site': 237, 'httpwww': 110, 'press': 198, 'manager': 157, 'session': 231, 'patch': 190, 'debug': 60, 'javaat': 129, 'bookmarks': 21, 'program': 204, 'url': 272, 'nativemethodaccessorimpl': 168, 'download': 73, 'links': 144, 'osgi': 185, 'www': 298, 'js': 133, 'javascript': 130, 'eclpse': 77, 'ts': 268, 'mozilla': 166, 'ff': 92, 'mac': 153, 'theme': 255, 'nternal': 172, 'profile': 203, 'google': 105, 'adaptor': 5, 'eclipsestarter': 76, 'equinox': 83, 'website': 286, 'firefox': 97, 'thunderbird': 258}\n"
     ]
    }
   ],
   "source": [
    "tfidf.fit(words)\n",
    "print(tfidf.vocabulary_)\n",
    "duplicate_1 = tfidf.transform(data.TitleDescription1)\n",
    "duplicate_2 = tfidf.transform(data.TitleDescription2)"
   ]
  },
  {
   "cell_type": "code",
   "execution_count": 30,
   "metadata": {},
   "outputs": [
    {
     "name": "stdout",
     "output_type": "stream",
     "text": [
      "TfidfVectorizer(max_features=300, norm='l1', stop_words='english')\n"
     ]
    }
   ],
   "source": [
    "print(tfidf.fit(words))"
   ]
  },
  {
   "cell_type": "code",
   "execution_count": 29,
   "metadata": {},
   "outputs": [
    {
     "data": {
      "text/plain": [
       "(122075, 300)"
      ]
     },
     "execution_count": 29,
     "metadata": {},
     "output_type": "execute_result"
    }
   ],
   "source": [
    "duplicate_2.shape"
   ]
  },
  {
   "cell_type": "code",
   "execution_count": 25,
   "metadata": {},
   "outputs": [],
   "source": [
    "x = abs(duplicate_1 - duplicate_2)\n",
    "y = data['Label']"
   ]
  },
  {
   "cell_type": "code",
   "execution_count": 26,
   "metadata": {},
   "outputs": [
    {
     "data": {
      "text/plain": [
       "(122075, 300)"
      ]
     },
     "execution_count": 26,
     "metadata": {},
     "output_type": "execute_result"
    }
   ],
   "source": [
    "x.shape"
   ]
  },
  {
   "cell_type": "code",
   "execution_count": 12,
   "metadata": {},
   "outputs": [],
   "source": [
    "from sklearn.model_selection import train_test_split\n",
    "x_train, x_test, y_train, y_test = train_test_split(x, y, test_size=0.2, random_state=42)"
   ]
  },
  {
   "cell_type": "code",
   "execution_count": 13,
   "metadata": {},
   "outputs": [
    {
     "name": "stdout",
     "output_type": "stream",
     "text": [
      "Model: \"sequential\"\n",
      "_________________________________________________________________\n",
      "Layer (type)                 Output Shape              Param #   \n",
      "=================================================================\n",
      "dense (Dense)                (None, 64)                19264     \n",
      "_________________________________________________________________\n",
      "dropout (Dropout)            (None, 64)                0         \n",
      "_________________________________________________________________\n",
      "activation (Activation)      (None, 64)                0         \n",
      "_________________________________________________________________\n",
      "dense_1 (Dense)              (None, 64)                4160      \n",
      "_________________________________________________________________\n",
      "dropout_1 (Dropout)          (None, 64)                0         \n",
      "_________________________________________________________________\n",
      "activation_1 (Activation)    (None, 64)                0         \n",
      "_________________________________________________________________\n",
      "dense_2 (Dense)              (None, 1)                 65        \n",
      "_________________________________________________________________\n",
      "activation_2 (Activation)    (None, 1)                 0         \n",
      "=================================================================\n",
      "Total params: 23,489\n",
      "Trainable params: 23,489\n",
      "Non-trainable params: 0\n",
      "_________________________________________________________________\n"
     ]
    }
   ],
   "source": [
    "from tensorflow.keras.models import Sequential\n",
    "from tensorflow.keras.layers import Dense, Dropout, Activation, Conv1D, GlobalMaxPooling1D\n",
    "\n",
    "\n",
    "model = Sequential()\n",
    "model.add(Dense(64,input_shape=(300,)))\n",
    "model.add(Dropout(0.2))\n",
    "model.add(Activation('relu'))\n",
    "model.add(Dense(64))\n",
    "model.add(Dropout(0.2))\n",
    "model.add(Activation('relu'))\n",
    "model.add(Dense(1))\n",
    "model.add(Activation('sigmoid'))\n",
    "model.summary()\n",
    "model.compile(loss='binary_crossentropy',\n",
    "              optimizer='adam',\n",
    "              metrics=['acc'])"
   ]
  },
  {
   "cell_type": "code",
   "execution_count": 14,
   "metadata": {},
   "outputs": [
    {
     "name": "stdout",
     "output_type": "stream",
     "text": [
      "Epoch 1/5\n",
      "1526/1526 [==============================] - 13s 7ms/step - loss: 0.4990 - acc: 0.7579 - val_loss: 0.3439 - val_acc: 0.8637\n",
      "Epoch 2/5\n",
      "1526/1526 [==============================] - 7s 4ms/step - loss: 0.3491 - acc: 0.8607 - val_loss: 0.3325 - val_acc: 0.8668\n",
      "Epoch 3/5\n",
      "1526/1526 [==============================] - 7s 5ms/step - loss: 0.3349 - acc: 0.8662 - val_loss: 0.3238 - val_acc: 0.8700\n",
      "Epoch 4/5\n",
      "1526/1526 [==============================] - 7s 5ms/step - loss: 0.3239 - acc: 0.8722 - val_loss: 0.3192 - val_acc: 0.8725\n",
      "Epoch 5/5\n",
      "1526/1526 [==============================] - 10s 6ms/step - loss: 0.3121 - acc: 0.8769 - val_loss: 0.3198 - val_acc: 0.8719\n"
     ]
    }
   ],
   "source": [
    "results = model.fit(x_train.todense(),y_train,batch_size=64,epochs=5,verbose=1,validation_data=(x_test.todense(),y_test))"
   ]
  },
  {
   "cell_type": "code",
   "execution_count": 15,
   "metadata": {},
   "outputs": [
    {
     "name": "stderr",
     "output_type": "stream",
     "text": [
      "/Users/rochelleallan/anaconda3/lib/python3.8/site-packages/tensorflow/python/keras/engine/sequential.py:450: UserWarning: `model.predict_classes()` is deprecated and will be removed after 2021-01-01. Please use instead:* `np.argmax(model.predict(x), axis=-1)`,   if your model does multi-class classification   (e.g. if it uses a `softmax` last-layer activation).* `(model.predict(x) > 0.5).astype(\"int32\")`,   if your model does binary classification   (e.g. if it uses a `sigmoid` last-layer activation).\n",
      "  warnings.warn('`model.predict_classes()` is deprecated and '\n"
     ]
    },
    {
     "name": "stdout",
     "output_type": "stream",
     "text": [
      "              precision    recall  f1-score   support\n",
      "\n",
      "           1       0.90      0.71      0.79      8294\n",
      "           0       0.86      0.96      0.91     16121\n",
      "\n",
      "    accuracy                           0.87     24415\n",
      "   macro avg       0.88      0.83      0.85     24415\n",
      "weighted avg       0.87      0.87      0.87     24415\n",
      "\n"
     ]
    }
   ],
   "source": [
    "from sklearn.metrics import classification_report\n",
    "pred = model.predict_classes(x_test)\n",
    "print(classification_report(y_test,pred,labels=[1,0]))"
   ]
  },
  {
   "cell_type": "code",
   "execution_count": 19,
   "metadata": {},
   "outputs": [
    {
     "data": {
      "text/plain": [
       "(24415, 300)"
      ]
     },
     "execution_count": 19,
     "metadata": {},
     "output_type": "execute_result"
    }
   ],
   "source": [
    "x_test.shape"
   ]
  },
  {
   "cell_type": "code",
   "execution_count": 20,
   "metadata": {},
   "outputs": [
    {
     "data": {
      "text/plain": [
       "(97660, 300)"
      ]
     },
     "execution_count": 20,
     "metadata": {},
     "output_type": "execute_result"
    }
   ],
   "source": [
    "x_train.shape"
   ]
  },
  {
   "cell_type": "code",
   "execution_count": 21,
   "metadata": {},
   "outputs": [
    {
     "data": {
      "text/plain": [
       "(24415,)"
      ]
     },
     "execution_count": 21,
     "metadata": {},
     "output_type": "execute_result"
    }
   ],
   "source": [
    "y_test.shape"
   ]
  },
  {
   "cell_type": "code",
   "execution_count": 22,
   "metadata": {},
   "outputs": [
    {
     "data": {
      "text/plain": [
       "(97660,)"
      ]
     },
     "execution_count": 22,
     "metadata": {},
     "output_type": "execute_result"
    }
   ],
   "source": [
    "y_train.shape"
   ]
  },
  {
   "cell_type": "code",
   "execution_count": null,
   "metadata": {},
   "outputs": [],
   "source": []
  }
 ],
 "metadata": {
  "kernelspec": {
   "display_name": "Python 3",
   "language": "python",
   "name": "python3"
  },
  "language_info": {
   "codemirror_mode": {
    "name": "ipython",
    "version": 3
   },
   "file_extension": ".py",
   "mimetype": "text/x-python",
   "name": "python",
   "nbconvert_exporter": "python",
   "pygments_lexer": "ipython3",
   "version": "3.8.3"
  }
 },
 "nbformat": 4,
 "nbformat_minor": 5
}
